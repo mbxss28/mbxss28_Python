{
 "cells": [
  {
   "cell_type": "markdown",
   "id": "65903689",
   "metadata": {},
   "source": [
    "# Python Coursework Conversion"
   ]
  },
  {
   "cell_type": "markdown",
   "id": "e86a2082",
   "metadata": {},
   "source": [
    "This notebook contains the Python equivalent of the R tasks provided."
   ]
  },
  {
   "cell_type": "markdown",
   "id": "fffa755b",
   "metadata": {},
   "source": [
    "### Question 1\n",
    "Create a PANDAS DataFrame with 5 rows and 2 columns. One column should be names, the other should be an Age.\n",
    "\n",
    "Remember to import pandas to be able to use it:\n",
    "\n",
    "```python\n",
    "import pandas as pd\n",
    "```\n",
    "\n",
    "Print your dataframe in the notebook."
   ]
  },
  {
   "cell_type": "code",
   "execution_count": 2,
   "id": "f164fd91",
   "metadata": {},
   "outputs": [
    {
     "data": {
      "text/html": [
       "<div>\n",
       "<style scoped>\n",
       "    .dataframe tbody tr th:only-of-type {\n",
       "        vertical-align: middle;\n",
       "    }\n",
       "\n",
       "    .dataframe tbody tr th {\n",
       "        vertical-align: top;\n",
       "    }\n",
       "\n",
       "    .dataframe thead th {\n",
       "        text-align: right;\n",
       "    }\n",
       "</style>\n",
       "<table border=\"1\" class=\"dataframe\">\n",
       "  <thead>\n",
       "    <tr style=\"text-align: right;\">\n",
       "      <th></th>\n",
       "      <th>Names</th>\n",
       "      <th>Age</th>\n",
       "    </tr>\n",
       "  </thead>\n",
       "  <tbody>\n",
       "    <tr>\n",
       "      <th>0</th>\n",
       "      <td>Harry</td>\n",
       "      <td>12</td>\n",
       "    </tr>\n",
       "    <tr>\n",
       "      <th>1</th>\n",
       "      <td>Ella</td>\n",
       "      <td>17</td>\n",
       "    </tr>\n",
       "    <tr>\n",
       "      <th>2</th>\n",
       "      <td>John</td>\n",
       "      <td>19</td>\n",
       "    </tr>\n",
       "    <tr>\n",
       "      <th>3</th>\n",
       "      <td>Sarah</td>\n",
       "      <td>23</td>\n",
       "    </tr>\n",
       "    <tr>\n",
       "      <th>4</th>\n",
       "      <td>Joe</td>\n",
       "      <td>25</td>\n",
       "    </tr>\n",
       "  </tbody>\n",
       "</table>\n",
       "</div>"
      ],
      "text/plain": [
       "   Names  Age\n",
       "0  Harry   12\n",
       "1   Ella   17\n",
       "2   John   19\n",
       "3  Sarah   23\n",
       "4    Joe   25"
      ]
     },
     "execution_count": 2,
     "metadata": {},
     "output_type": "execute_result"
    }
   ],
   "source": [
    "import pandas as pd\n",
    "dat = {\"Names\":[\"Harry\",\"Ella\",\"John\",\"Sarah\",\"Joe\"], \"Age\":[12,17,19,23,25]}\n",
    "df = pd.DataFrame(data=dat)\n",
    "df"
   ]
  },
  {
   "cell_type": "markdown",
   "id": "bb31f387",
   "metadata": {},
   "source": [
    "### Question 2\n",
    "Provide examples of the following data structures in python and print or access them as shown.\n",
    "\n",
    "A list of ints. - print the fourth value.\n",
    "\n",
    "A tuple - print the tuple\n",
    "\n",
    "A dictionary representing the four bases of DNA - print the total number of bases represented by your dictionary.\n",
    "\n",
    "A list of lists of floats. - print the third value in the sixth list.\n",
    "\n",
    "An array of floats -  print the first four items of the array\n",
    "\n",
    "A pandas dataframe - print the 9th row.\n"
   ]
  },
  {
   "cell_type": "code",
   "execution_count": 3,
   "id": "8aa4661c",
   "metadata": {},
   "outputs": [
    {
     "name": "stdout",
     "output_type": "stream",
     "text": [
      "5\n",
      "(20, 40, 60)\n",
      "4\n",
      "6.3\n",
      "[3.5, 7.3, 9.1, 6.8]\n"
     ]
    },
    {
     "data": {
      "text/plain": [
       "Names    Wally\n",
       "Age          6\n",
       "Name: 8, dtype: object"
      ]
     },
     "metadata": {},
     "output_type": "display_data"
    }
   ],
   "source": [
    "#List\n",
    "List = [1,2,3,4,5]\n",
    "print(List[4])\n",
    "\n",
    "#Tuple\n",
    "Tuple = (20,40,60)\n",
    "print(Tuple)\n",
    "\n",
    "#dictionary\n",
    "Dictionary = {\"A\": \"Adenine\", \"T\" : \"Tyrosine\", \"C\" : \"Cytosine\", \"G\" : \"Guanine\"}\n",
    "print(len(Dictionary))\n",
    "\n",
    "#List of list of floats\n",
    "floats = []\n",
    "floats.append([1.1,1.2,1.3])\n",
    "floats.append([2.1,2.2,2.3])\n",
    "floats.append([3.1,3.2,3.3])\n",
    "floats.append([4.1,4.2,4.3])\n",
    "floats.append([5.1,5.2,5.3])\n",
    "floats.append([6.1,6.2,6.3])\n",
    "         \n",
    "print(floats[5][2])\n",
    "\n",
    "#array of floats \n",
    "array = [3.5,7.3,9.1,6.8,3.1,7.7]\n",
    "print(array[0:4])\n",
    "#pandas dataframe\n",
    "dat = {\"Names\":[\"Harry\",\"Ella\",\"John\",\"Sarah\",\"Joe\",\"Barry\",\"Josh\",\"Tom\",\"Wally\",\"Mario\"], \"Age\":[12,17,19,23,25,45,78,34,6,7]}\n",
    "df = pd.DataFrame(data=dat)\n",
    "display(df.iloc[8])"
   ]
  },
  {
   "cell_type": "markdown",
   "id": "52e30ead",
   "metadata": {},
   "source": [
    "### Question 3\n",
    "\n",
    "Use three different methods to print the numbers 200 to 300."
   ]
  },
  {
   "cell_type": "code",
   "execution_count": 6,
   "id": "1c038f6a",
   "metadata": {},
   "outputs": [
    {
     "name": "stdout",
     "output_type": "stream",
     "text": [
      "200\n",
      "201\n",
      "202\n",
      "203\n",
      "204\n",
      "205\n",
      "206\n",
      "207\n",
      "208\n",
      "209\n",
      "210\n",
      "211\n",
      "212\n",
      "213\n",
      "214\n",
      "215\n",
      "216\n",
      "217\n",
      "218\n",
      "219\n",
      "220\n",
      "221\n",
      "222\n",
      "223\n",
      "224\n",
      "225\n",
      "226\n",
      "227\n",
      "228\n",
      "229\n",
      "230\n",
      "231\n",
      "232\n",
      "233\n",
      "234\n",
      "235\n",
      "236\n",
      "237\n",
      "238\n",
      "239\n",
      "240\n",
      "241\n",
      "242\n",
      "243\n",
      "244\n",
      "245\n",
      "246\n",
      "247\n",
      "248\n",
      "249\n",
      "250\n",
      "251\n",
      "252\n",
      "253\n",
      "254\n",
      "255\n",
      "256\n",
      "257\n",
      "258\n",
      "259\n",
      "260\n",
      "261\n",
      "262\n",
      "263\n",
      "264\n",
      "265\n",
      "266\n",
      "267\n",
      "268\n",
      "269\n",
      "270\n",
      "271\n",
      "272\n",
      "273\n",
      "274\n",
      "275\n",
      "276\n",
      "277\n",
      "278\n",
      "279\n",
      "280\n",
      "281\n",
      "282\n",
      "283\n",
      "284\n",
      "285\n",
      "286\n",
      "287\n",
      "288\n",
      "289\n",
      "290\n",
      "291\n",
      "292\n",
      "293\n",
      "294\n",
      "295\n",
      "296\n",
      "297\n",
      "298\n",
      "299\n",
      "300\n",
      "[200 201 202 203 204 205 206 207 208 209 210 211 212 213 214 215 216 217\n",
      " 218 219 220 221 222 223 224 225 226 227 228 229 230 231 232 233 234 235\n",
      " 236 237 238 239 240 241 242 243 244 245 246 247 248 249 250 251 252 253\n",
      " 254 255 256 257 258 259 260 261 262 263 264 265 266 267 268 269 270 271\n",
      " 272 273 274 275 276 277 278 279 280 281 282 283 284 285 286 287 288 289\n",
      " 290 291 292 293 294 295 296 297 298 299 300]\n"
     ]
    }
   ],
   "source": [
    "import numpy as np\n",
    "#for loop\n",
    "for i in range(200,301):\n",
    "    print(i)\n",
    "#list\n",
    "list(range(200,301)) \n",
    "\n",
    "#numpy\n",
    "array = np.arange(200, 301)\n",
    "print(array)\n"
   ]
  },
  {
   "cell_type": "markdown",
   "id": "60f369ff",
   "metadata": {},
   "source": [
    "### Question 4\n",
    "Add or replace the following elements in the list animals (you will need to run the cell below):\n",
    "\n",
    "1. Replace fish wish another animal of your choice.\n",
    "2. Add another animal of your choice to the end of the list.\n",
    "3. Replace octopus with another animal of your choice.\n",
    "\n",
    "Print the edited list. \n"
   ]
  },
  {
   "cell_type": "code",
   "execution_count": 40,
   "id": "0b3abbe4",
   "metadata": {},
   "outputs": [],
   "source": [
    "# Replace elements in this list\n",
    "animals = [\"tiger\", \"lion\", \"badger\", \"fox\", \"rabbit\", \"fish\", \"dog\", \"octopus\"]"
   ]
  },
  {
   "cell_type": "code",
   "execution_count": 55,
   "id": "b9a6deef-ab81-4eb0-933b-ea5387f18f0e",
   "metadata": {},
   "outputs": [
    {
     "name": "stdout",
     "output_type": "stream",
     "text": [
      "['tiger', 'lion', 'badger', 'fox', 'fish', 'dog', 'shellfish', 'Bird']\n"
     ]
    }
   ],
   "source": [
    "animals.append(\"Bird\")\n",
    "animals = list(map(lambda x: x.replace(\"octopus\",\"shellfish\"),animals))\n",
    "print(animals)"
   ]
  },
  {
   "cell_type": "markdown",
   "id": "a909ec97",
   "metadata": {},
   "source": [
    "### Question 5\n",
    "Using pandas, generate a scatterplot of mpg vs hp using the cars dataset. The data set is read in and assigned to a dataframe by running the cell below. Ensure you have imported all the libraries you need. "
   ]
  },
  {
   "cell_type": "code",
   "execution_count": 8,
   "id": "6d615bca-a1f8-4010-ad5d-e8d9acdfe9f1",
   "metadata": {},
   "outputs": [],
   "source": [
    "mtcars = \"https://raw.githubusercontent.com/Apress/mastering-ml-w-python-in-six-steps/refs/heads/master/Chapter_2_Code/Data/mtcars.csv\"\n",
    "cars = pd.read_csv(mtcars)"
   ]
  },
  {
   "cell_type": "code",
   "execution_count": 10,
   "id": "245f98df",
   "metadata": {},
   "outputs": [
    {
     "data": {
      "text/plain": [
       "Text(0, 0.5, 'HP')"
      ]
     },
     "execution_count": 10,
     "metadata": {},
     "output_type": "execute_result"
    },
    {
     "data": {
      "image/png": "[encoded data removed]",
      "text/plain": [
       "<Figure size 640x480 with 1 Axes>"
      ]
     },
     "metadata": {},
     "output_type": "display_data"
    }
   ],
   "source": [
    "#print(cars)\n",
    "import matplotlib.pyplot as plt\n",
    "cars.plot.scatter(x = \"mpg\", y = \"hp\", c = \"red\")\n",
    "plt.title('MPG vs HP')\n",
    "plt.xlabel(\"MPG\")\n",
    "plt.ylabel(\"HP\")\n"
   ]
  },
  {
   "cell_type": "markdown",
   "id": "cf249a2f",
   "metadata": {},
   "source": [
    "### Question 6\n",
    "Using the startwars dataset imported below, identify the individuals with tallest height and lowest mass."
   ]
  },
  {
   "cell_type": "code",
   "execution_count": 13,
   "id": "e3327930",
   "metadata": {},
   "outputs": [],
   "source": [
    "starwars_dataset=\"https://www.fabricionarcizo.com/post/starwars/updated_starwars.csv\"\n",
    "starwars = pd.read_csv(starwars_dataset)"
   ]
  },
  {
   "cell_type": "code",
   "execution_count": 17,
   "id": "3aa2838f-ad05-48a0-b14d-2dc0b18be1fe",
   "metadata": {},
   "outputs": [
    {
     "name": "stdout",
     "output_type": "stream",
     "text": [
      "Tallest height 264.0\n",
      "lightest mass 15.0\n"
     ]
    }
   ],
   "source": [
    "starwars\n",
    "tallest = starwars.query(\"height > 150.0\")\n",
    "print(\"Tallest height\", tallest[\"height\"].max())\n",
    "lightest = starwars.query(\"mass < 50\")\n",
    "print(\"lightest mass\",lightest[\"mass\"].min())"
   ]
  },
  {
   "cell_type": "markdown",
   "id": "95fa55ae-21d3-4156-ace8-e65b96b7226e",
   "metadata": {},
   "source": [
    "### Question 7\n",
    "Analyze the life expectancy dataset (which can be loaded by running the cell below).\n",
    "\n",
    "Calculate the number of unique countries in the dataset.\n",
    "\n",
    "Calculate the country and year with the highest life expectancy.\n",
    "\n",
    "Calculate the year with the highest total expenditure.\n",
    "\n",
    "Provide your code using pandas.\n"
   ]
  },
  {
   "cell_type": "code",
   "execution_count": 19,
   "id": "c2961279-cbcc-4247-bfa3-63fc06988186",
   "metadata": {},
   "outputs": [
    {
     "data": {
      "text/html": [
       "<div>\n",
       "<style scoped>\n",
       "    .dataframe tbody tr th:only-of-type {\n",
       "        vertical-align: middle;\n",
       "    }\n",
       "\n",
       "    .dataframe tbody tr th {\n",
       "        vertical-align: top;\n",
       "    }\n",
       "\n",
       "    .dataframe thead th {\n",
       "        text-align: right;\n",
       "    }\n",
       "</style>\n",
       "<table border=\"1\" class=\"dataframe\">\n",
       "  <thead>\n",
       "    <tr style=\"text-align: right;\">\n",
       "      <th></th>\n",
       "      <th>Year</th>\n",
       "      <th>Country</th>\n",
       "      <th>Spending_USD</th>\n",
       "      <th>Life_Expectancy</th>\n",
       "    </tr>\n",
       "  </thead>\n",
       "  <tbody>\n",
       "    <tr>\n",
       "      <th>0</th>\n",
       "      <td>1970</td>\n",
       "      <td>Germany</td>\n",
       "      <td>252.311</td>\n",
       "      <td>70.6</td>\n",
       "    </tr>\n",
       "    <tr>\n",
       "      <th>1</th>\n",
       "      <td>1970</td>\n",
       "      <td>France</td>\n",
       "      <td>192.143</td>\n",
       "      <td>72.2</td>\n",
       "    </tr>\n",
       "    <tr>\n",
       "      <th>2</th>\n",
       "      <td>1970</td>\n",
       "      <td>Great Britain</td>\n",
       "      <td>123.993</td>\n",
       "      <td>71.9</td>\n",
       "    </tr>\n",
       "    <tr>\n",
       "      <th>3</th>\n",
       "      <td>1970</td>\n",
       "      <td>Japan</td>\n",
       "      <td>150.437</td>\n",
       "      <td>72.0</td>\n",
       "    </tr>\n",
       "    <tr>\n",
       "      <th>4</th>\n",
       "      <td>1970</td>\n",
       "      <td>USA</td>\n",
       "      <td>326.961</td>\n",
       "      <td>70.9</td>\n",
       "    </tr>\n",
       "    <tr>\n",
       "      <th>...</th>\n",
       "      <td>...</td>\n",
       "      <td>...</td>\n",
       "      <td>...</td>\n",
       "      <td>...</td>\n",
       "    </tr>\n",
       "    <tr>\n",
       "      <th>269</th>\n",
       "      <td>2020</td>\n",
       "      <td>Germany</td>\n",
       "      <td>6938.983</td>\n",
       "      <td>81.1</td>\n",
       "    </tr>\n",
       "    <tr>\n",
       "      <th>270</th>\n",
       "      <td>2020</td>\n",
       "      <td>France</td>\n",
       "      <td>5468.418</td>\n",
       "      <td>82.3</td>\n",
       "    </tr>\n",
       "    <tr>\n",
       "      <th>271</th>\n",
       "      <td>2020</td>\n",
       "      <td>Great Britain</td>\n",
       "      <td>5018.700</td>\n",
       "      <td>80.4</td>\n",
       "    </tr>\n",
       "    <tr>\n",
       "      <th>272</th>\n",
       "      <td>2020</td>\n",
       "      <td>Japan</td>\n",
       "      <td>4665.641</td>\n",
       "      <td>84.7</td>\n",
       "    </tr>\n",
       "    <tr>\n",
       "      <th>273</th>\n",
       "      <td>2020</td>\n",
       "      <td>USA</td>\n",
       "      <td>11859.179</td>\n",
       "      <td>77.0</td>\n",
       "    </tr>\n",
       "  </tbody>\n",
       "</table>\n",
       "<p>274 rows × 4 columns</p>\n",
       "</div>"
      ],
      "text/plain": [
       "     Year        Country  Spending_USD  Life_Expectancy\n",
       "0    1970        Germany       252.311             70.6\n",
       "1    1970         France       192.143             72.2\n",
       "2    1970  Great Britain       123.993             71.9\n",
       "3    1970          Japan       150.437             72.0\n",
       "4    1970            USA       326.961             70.9\n",
       "..    ...            ...           ...              ...\n",
       "269  2020        Germany      6938.983             81.1\n",
       "270  2020         France      5468.418             82.3\n",
       "271  2020  Great Britain      5018.700             80.4\n",
       "272  2020          Japan      4665.641             84.7\n",
       "273  2020            USA     11859.179             77.0\n",
       "\n",
       "[274 rows x 4 columns]"
      ]
     },
     "execution_count": 19,
     "metadata": {},
     "output_type": "execute_result"
    }
   ],
   "source": [
    "import seaborn as sns\n",
    "life_expectancy = sns.load_dataset('healthexp')\n",
    "life_expectancy"
   ]
  },
  {
   "cell_type": "code",
   "execution_count": 38,
   "id": "93b6c9a4",
   "metadata": {},
   "outputs": [
    {
     "name": "stdout",
     "output_type": "stream",
     "text": [
      "6\n",
      "Country\n",
      "France    79.565714\n",
      "Name: Life_Expectancy, dtype: float64\n",
      "Year\n",
      "2019    81.833333\n",
      "Name: Life_Expectancy, dtype: float64\n",
      "39779.244999999995\n"
     ]
    }
   ],
   "source": [
    "\n",
    "df = pd.DataFrame(data=life_expectancy)\n",
    "#Counts number of unique Countries in column\n",
    "unique = len(pd.unique(df[\"Country\"]))\n",
    "print(unique)\n",
    "\n",
    "#countries with highest life expectancy and year with highest life expectancy\n",
    "Country_life = df.groupby(\"Country\")[\"Life_Expectancy\"].mean() \n",
    "Year_life = df.groupby(\"Year\")[\"Life_Expectancy\"].mean()\n",
    "\n",
    "Country_life = Country_life.sort_values(ascending=False)\n",
    "print(Country_life.head(1))\n",
    "\n",
    "Year_life = Year_life.sort_values(ascending=False)\n",
    "print(Year_life.head(1))\n",
    "\n",
    "#Calculate year with the highest total expendtiure\n",
    "df_sum = df.groupby(\"Year\")[\"Spending_USD\"].sum()\n",
    "print(max(df_sum))"
   ]
  },
  {
   "cell_type": "markdown",
   "id": "bc1d87d4",
   "metadata": {},
   "source": [
    "### Question 8\n",
    "Using the diamonds dataset and the plotting code of your choice, plot the following from the diamonds dataset.\n",
    "\n",
    "1. Carat vs Price in a scatter plot.\n",
    "2. A histogram of prices.\n",
    "3. A boxplot of cut vs price.\n",
    "\n",
    "The code can be loaded from seaborn in the cell below."
   ]
  },
  {
   "cell_type": "code",
   "execution_count": 39,
   "id": "0cf57f04-3fa2-470f-906a-d15180943d5f",
   "metadata": {},
   "outputs": [
    {
     "data": {
      "text/html": [
       "<div>\n",
       "<style scoped>\n",
       "    .dataframe tbody tr th:only-of-type {\n",
       "        vertical-align: middle;\n",
       "    }\n",
       "\n",
       "    .dataframe tbody tr th {\n",
       "        vertical-align: top;\n",
       "    }\n",
       "\n",
       "    .dataframe thead th {\n",
       "        text-align: right;\n",
       "    }\n",
       "</style>\n",
       "<table border=\"1\" class=\"dataframe\">\n",
       "  <thead>\n",
       "    <tr style=\"text-align: right;\">\n",
       "      <th></th>\n",
       "      <th>carat</th>\n",
       "      <th>cut</th>\n",
       "      <th>color</th>\n",
       "      <th>clarity</th>\n",
       "      <th>depth</th>\n",
       "      <th>table</th>\n",
       "      <th>price</th>\n",
       "      <th>x</th>\n",
       "      <th>y</th>\n",
       "      <th>z</th>\n",
       "    </tr>\n",
       "  </thead>\n",
       "  <tbody>\n",
       "    <tr>\n",
       "      <th>0</th>\n",
       "      <td>0.23</td>\n",
       "      <td>Ideal</td>\n",
       "      <td>E</td>\n",
       "      <td>SI2</td>\n",
       "      <td>61.5</td>\n",
       "      <td>55.0</td>\n",
       "      <td>326</td>\n",
       "      <td>3.95</td>\n",
       "      <td>3.98</td>\n",
       "      <td>2.43</td>\n",
       "    </tr>\n",
       "    <tr>\n",
       "      <th>1</th>\n",
       "      <td>0.21</td>\n",
       "      <td>Premium</td>\n",
       "      <td>E</td>\n",
       "      <td>SI1</td>\n",
       "      <td>59.8</td>\n",
       "      <td>61.0</td>\n",
       "      <td>326</td>\n",
       "      <td>3.89</td>\n",
       "      <td>3.84</td>\n",
       "      <td>2.31</td>\n",
       "    </tr>\n",
       "    <tr>\n",
       "      <th>2</th>\n",
       "      <td>0.23</td>\n",
       "      <td>Good</td>\n",
       "      <td>E</td>\n",
       "      <td>VS1</td>\n",
       "      <td>56.9</td>\n",
       "      <td>65.0</td>\n",
       "      <td>327</td>\n",
       "      <td>4.05</td>\n",
       "      <td>4.07</td>\n",
       "      <td>2.31</td>\n",
       "    </tr>\n",
       "    <tr>\n",
       "      <th>3</th>\n",
       "      <td>0.29</td>\n",
       "      <td>Premium</td>\n",
       "      <td>I</td>\n",
       "      <td>VS2</td>\n",
       "      <td>62.4</td>\n",
       "      <td>58.0</td>\n",
       "      <td>334</td>\n",
       "      <td>4.20</td>\n",
       "      <td>4.23</td>\n",
       "      <td>2.63</td>\n",
       "    </tr>\n",
       "    <tr>\n",
       "      <th>4</th>\n",
       "      <td>0.31</td>\n",
       "      <td>Good</td>\n",
       "      <td>J</td>\n",
       "      <td>SI2</td>\n",
       "      <td>63.3</td>\n",
       "      <td>58.0</td>\n",
       "      <td>335</td>\n",
       "      <td>4.34</td>\n",
       "      <td>4.35</td>\n",
       "      <td>2.75</td>\n",
       "    </tr>\n",
       "    <tr>\n",
       "      <th>...</th>\n",
       "      <td>...</td>\n",
       "      <td>...</td>\n",
       "      <td>...</td>\n",
       "      <td>...</td>\n",
       "      <td>...</td>\n",
       "      <td>...</td>\n",
       "      <td>...</td>\n",
       "      <td>...</td>\n",
       "      <td>...</td>\n",
       "      <td>...</td>\n",
       "    </tr>\n",
       "    <tr>\n",
       "      <th>53935</th>\n",
       "      <td>0.72</td>\n",
       "      <td>Ideal</td>\n",
       "      <td>D</td>\n",
       "      <td>SI1</td>\n",
       "      <td>60.8</td>\n",
       "      <td>57.0</td>\n",
       "      <td>2757</td>\n",
       "      <td>5.75</td>\n",
       "      <td>5.76</td>\n",
       "      <td>3.50</td>\n",
       "    </tr>\n",
       "    <tr>\n",
       "      <th>53936</th>\n",
       "      <td>0.72</td>\n",
       "      <td>Good</td>\n",
       "      <td>D</td>\n",
       "      <td>SI1</td>\n",
       "      <td>63.1</td>\n",
       "      <td>55.0</td>\n",
       "      <td>2757</td>\n",
       "      <td>5.69</td>\n",
       "      <td>5.75</td>\n",
       "      <td>3.61</td>\n",
       "    </tr>\n",
       "    <tr>\n",
       "      <th>53937</th>\n",
       "      <td>0.70</td>\n",
       "      <td>Very Good</td>\n",
       "      <td>D</td>\n",
       "      <td>SI1</td>\n",
       "      <td>62.8</td>\n",
       "      <td>60.0</td>\n",
       "      <td>2757</td>\n",
       "      <td>5.66</td>\n",
       "      <td>5.68</td>\n",
       "      <td>3.56</td>\n",
       "    </tr>\n",
       "    <tr>\n",
       "      <th>53938</th>\n",
       "      <td>0.86</td>\n",
       "      <td>Premium</td>\n",
       "      <td>H</td>\n",
       "      <td>SI2</td>\n",
       "      <td>61.0</td>\n",
       "      <td>58.0</td>\n",
       "      <td>2757</td>\n",
       "      <td>6.15</td>\n",
       "      <td>6.12</td>\n",
       "      <td>3.74</td>\n",
       "    </tr>\n",
       "    <tr>\n",
       "      <th>53939</th>\n",
       "      <td>0.75</td>\n",
       "      <td>Ideal</td>\n",
       "      <td>D</td>\n",
       "      <td>SI2</td>\n",
       "      <td>62.2</td>\n",
       "      <td>55.0</td>\n",
       "      <td>2757</td>\n",
       "      <td>5.83</td>\n",
       "      <td>5.87</td>\n",
       "      <td>3.64</td>\n",
       "    </tr>\n",
       "  </tbody>\n",
       "</table>\n",
       "<p>53940 rows × 10 columns</p>\n",
       "</div>"
      ],
      "text/plain": [
       "       carat        cut color clarity  depth  table  price     x     y     z\n",
       "0       0.23      Ideal     E     SI2   61.5   55.0    326  3.95  3.98  2.43\n",
       "1       0.21    Premium     E     SI1   59.8   61.0    326  3.89  3.84  2.31\n",
       "2       0.23       Good     E     VS1   56.9   65.0    327  4.05  4.07  2.31\n",
       "3       0.29    Premium     I     VS2   62.4   58.0    334  4.20  4.23  2.63\n",
       "4       0.31       Good     J     SI2   63.3   58.0    335  4.34  4.35  2.75\n",
       "...      ...        ...   ...     ...    ...    ...    ...   ...   ...   ...\n",
       "53935   0.72      Ideal     D     SI1   60.8   57.0   2757  5.75  5.76  3.50\n",
       "53936   0.72       Good     D     SI1   63.1   55.0   2757  5.69  5.75  3.61\n",
       "53937   0.70  Very Good     D     SI1   62.8   60.0   2757  5.66  5.68  3.56\n",
       "53938   0.86    Premium     H     SI2   61.0   58.0   2757  6.15  6.12  3.74\n",
       "53939   0.75      Ideal     D     SI2   62.2   55.0   2757  5.83  5.87  3.64\n",
       "\n",
       "[53940 rows x 10 columns]"
      ]
     },
     "execution_count": 39,
     "metadata": {},
     "output_type": "execute_result"
    }
   ],
   "source": [
    "diamonds = sns.load_dataset('diamonds')\n",
    "diamonds"
   ]
  },
  {
   "cell_type": "code",
   "execution_count": 40,
   "id": "0e7638b1",
   "metadata": {},
   "outputs": [
    {
     "data": {
      "image/png": "[encoded data removed]",
      "text/plain": [
       "<Figure size 640x480 with 1 Axes>"
      ]
     },
     "metadata": {},
     "output_type": "display_data"
    },
    {
     "data": {
      "image/png": "[encoded data removed]",
      "text/plain": [
       "<Figure size 640x480 with 1 Axes>"
      ]
     },
     "metadata": {},
     "output_type": "display_data"
    },
    {
     "data": {
      "image/png": "[encoded data removed]",
      "text/plain": [
       "<Figure size 640x480 with 1 Axes>"
      ]
     },
     "metadata": {},
     "output_type": "display_data"
    }
   ],
   "source": [
    "import matplotlib.pyplot as plt\n",
    "%matplotlib inline\n",
    "import seaborn as sns\n",
    "#scatter plot of carat vs price\n",
    "plt.scatter(diamonds[\"carat\"], diamonds[\"price\"], color = \"black\")\n",
    "plt.xlabel(\"carat\")\n",
    "plt.ylabel(\"price\")\n",
    "plt.show()\n",
    "\n",
    "#histogram of price\n",
    "plt.hist(diamonds[\"price\"], bins = 15, color = \"black\" )\n",
    "plt.xlabel(\"price\")\n",
    "plt.ylabel(\"Frequency\")\n",
    "plt.show()\n",
    "\n",
    "#boxplot of cut vs price\n",
    "sns.boxplot(x = \"cut\", y = \"price\", data = diamonds)\n",
    "plt.show()"
   ]
  },
  {
   "cell_type": "markdown",
   "id": "ff76cc7d",
   "metadata": {},
   "source": [
    "### Question 9\n",
    "\n",
    "Using the same dataset, identify the max and min price in diamonds dataset."
   ]
  },
  {
   "cell_type": "code",
   "execution_count": 42,
   "id": "99b1d89e",
   "metadata": {},
   "outputs": [
    {
     "data": {
      "text/plain": [
       "18823"
      ]
     },
     "execution_count": 42,
     "metadata": {},
     "output_type": "execute_result"
    }
   ],
   "source": [
    "dataframe = pd.DataFrame(diamonds)\n",
    "dataframe[\"price\"].min()\n",
    "dataframe[\"price\"].max()"
   ]
  },
  {
   "cell_type": "markdown",
   "id": "f36f35b2",
   "metadata": {},
   "source": [
    "### Question 10\n",
    "Write a function that will convert carat to grams and find the heaviest diamond.\n",
    "\n",
    "1 carat = 0.2 grams"
   ]
  },
  {
   "cell_type": "code",
   "execution_count": 6,
   "id": "68c11dfb",
   "metadata": {},
   "outputs": [
    {
     "data": {
      "text/plain": [
       "np.float64(1.002)"
      ]
     },
     "execution_count": 6,
     "metadata": {},
     "output_type": "execute_result"
    }
   ],
   "source": [
    "def change(a):\n",
    "    y = a / 5\n",
    "    return (y)\n",
    "diamonds['carat'] = diamonds['carat'].apply(change) \n",
    "diamonds['carat'].max()"
   ]
  },
  {
   "cell_type": "code",
   "execution_count": null,
   "id": "e725f49f-95dc-4b82-ac2f-db3c87e00946",
   "metadata": {},
   "outputs": [],
   "source": []
  }
 ],
 "metadata": {
  "kernelspec": {
   "display_name": "Python 3 (ipykernel)",
   "language": "python",
   "name": "python3"
  },
  "language_info": {
   "codemirror_mode": {
    "name": "ipython",
    "version": 3
   },
   "file_extension": ".py",
   "mimetype": "text/x-python",
   "name": "python",
   "nbconvert_exporter": "python",
   "pygments_lexer": "ipython3",
   "version": "3.12.3"
  }
 },
 "nbformat": 4,
 "nbformat_minor": 5
}
